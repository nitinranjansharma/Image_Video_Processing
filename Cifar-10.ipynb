{
 "cells": [
  {
   "cell_type": "code",
   "execution_count": 1,
   "metadata": {},
   "outputs": [],
   "source": [
    "import tensorflow as tf"
   ]
  },
  {
   "cell_type": "markdown",
   "metadata": {},
   "source": [
    "http://cs231n.github.io/convolutional-networks/"
   ]
  },
  {
   "cell_type": "code",
   "execution_count": null,
   "metadata": {},
   "outputs": [],
   "source": []
  },
  {
   "cell_type": "code",
   "execution_count": 2,
   "metadata": {},
   "outputs": [
    {
     "data": {
      "text/plain": [
       "'1.10.0'"
      ]
     },
     "execution_count": 2,
     "metadata": {},
     "output_type": "execute_result"
    }
   ],
   "source": [
    "tf.__version__"
   ]
  },
  {
   "cell_type": "code",
   "execution_count": 33,
   "metadata": {},
   "outputs": [],
   "source": [
    "import numpy as np\n",
    "import pandas as pd\n",
    "import matplotlib.pyplot as plt"
   ]
  },
  {
   "cell_type": "code",
   "execution_count": 5,
   "metadata": {},
   "outputs": [],
   "source": [
    "from six.moves import cPickle as pickle\n",
    "from  PIL import Image\n",
    "import numpy as np"
   ]
  },
  {
   "cell_type": "code",
   "execution_count": 17,
   "metadata": {},
   "outputs": [
    {
     "name": "stdout",
     "output_type": "stream",
     "text": [
      "sucess\n"
     ]
    }
   ],
   "source": [
    "from os.path import isfile, isdir\n",
    "#from tqdm import tqdm\n",
    "import tarfile\n",
    "\n",
    "data_file = \"C:\\\\Nitin\\\\studies and notes\\\\tensor-flow\\\\CIFAR\\\\\"\n",
    "\n",
    "if isdir(data_file):\n",
    "    with tarfile.open(data_file+'cifar-10-python.tar.gz') as tar:\n",
    "        tar.extractall()\n",
    "        print(\"sucess\")\n",
    "        tar.close()"
   ]
  },
  {
   "cell_type": "code",
   "execution_count": 18,
   "metadata": {},
   "outputs": [],
   "source": [
    "def load_label_names():\n",
    "    return ['airplane', 'automobile', 'bird', 'cat', 'deer', 'dog', 'frog', 'horse', 'ship', 'truck']"
   ]
  },
  {
   "cell_type": "code",
   "execution_count": 19,
   "metadata": {},
   "outputs": [],
   "source": [
    "#preprocessing-1\n",
    "cifar_path = \"cifar-10-batches-py\"\n",
    "def cifar_batch(cifar_path, batch_id):\n",
    "    with open(cifar_path+\"/data_batch_\"+str(batch_id), mode = \"rb\") as file:\n",
    "        batch = pickle.load(file, encoding='Latin-1')\n",
    "        \n",
    "    features = batch['data'].reshape((len(batch['data']),3,32,32)).transpose(0,2,3,1)\n",
    "    labels = batch['labels']\n",
    "    return(features,labels)\n",
    "    \n",
    "    \n",
    "    "
   ]
  },
  {
   "cell_type": "code",
   "execution_count": 37,
   "metadata": {},
   "outputs": [],
   "source": [
    "#checking content of the cifar dataset\n",
    "def check_cifar(data_dir, batch_id,sample_id):\n",
    "    features,labels = cifar_batch(data_dir,batch_id)\n",
    "    \n",
    "    if not (0 <= sample_id < len(features)):\n",
    "        print('{} samples in batch {}.  {} is out of range.'.format(len(features), batch_id, sample_id))\n",
    "        return None\n",
    "    \n",
    "    print('\\nStats of batch #{}:'.format(batch_id))\n",
    "    print('# of Samples: {}\\n'.format(len(features)))\n",
    "    \n",
    "    label_names = load_label_names()\n",
    "    label_counts = dict(zip(*np.unique(labels, return_counts=True)))\n",
    "    for key, value in label_counts.items():\n",
    "        print('Label Counts of [{}]({}) : {}'.format(key, label_names[key], value))\n",
    "        \n",
    "    sample_image = features[sample_id]\n",
    "    sample_label = labels[sample_id]\n",
    "    \n",
    "    print('\\nExample of Image {}:'.format(sample_id))\n",
    "    print('Image - Min Value: {} Max Value: {}'.format(sample_image.min(), sample_image.max()))\n",
    "    print('Image - Shape: {}'.format(sample_image.shape))\n",
    "    print('Label - Label Id: {} Name: {}'.format(sample_label, label_names[sample_label]))\n",
    "    \n",
    "    plt.imshow(sample_image)"
   ]
  },
  {
   "cell_type": "code",
   "execution_count": 38,
   "metadata": {},
   "outputs": [
    {
     "name": "stdout",
     "output_type": "stream",
     "text": [
      "\n",
      "Stats of batch #3:\n",
      "# of Samples: 10000\n",
      "\n",
      "Label Counts of [0](airplane) : 994\n",
      "Label Counts of [1](automobile) : 1042\n",
      "Label Counts of [2](bird) : 965\n",
      "Label Counts of [3](cat) : 997\n",
      "Label Counts of [4](deer) : 990\n",
      "Label Counts of [5](dog) : 1029\n",
      "Label Counts of [6](frog) : 978\n",
      "Label Counts of [7](horse) : 1015\n",
      "Label Counts of [8](ship) : 961\n",
      "Label Counts of [9](truck) : 1029\n",
      "\n",
      "Example of Image 300:\n",
      "Image - Min Value: 0 Max Value: 251\n",
      "Image - Shape: (32, 32, 3)\n",
      "Label - Label Id: 8 Name: ship\n"
     ]
    },
    {
     "data": {
      "image/png": "[encoded data removed]",
      "text/plain": [
       "<Figure size 432x288 with 1 Axes>"
      ]
     },
     "metadata": {
      "image/png": {
       "height": 250,
       "width": 253
      },
      "needs_background": "light"
     },
     "output_type": "display_data"
    }
   ],
   "source": [
    "%matplotlib inline\n",
    "\n",
    "cifar_path = \"cifar-10-batches-py\"\n",
    "import numpy as np\n",
    "\n",
    "# Explore the dataset\n",
    "batch_id = 3\n",
    "sample_id = 300\n",
    "check_cifar(cifar_path, batch_id, sample_id)"
   ]
  },
  {
   "cell_type": "code",
   "execution_count": 40,
   "metadata": {},
   "outputs": [],
   "source": [
    "#normalization of the pixel values will help in avoiding exploding gradient since if we are using relu as an activation function \n",
    "#the gradient coming from back propagation canturn out to be huge given the pixel values(0-255) so normalise to 0-1\n",
    "\n",
    "def normalize_vals(x):\n",
    "    min_val = np.min(x)\n",
    "    max_val = np.max(x)\n",
    "    return((x - min_val)/(max_val-min_val))"
   ]
  },
  {
   "cell_type": "code",
   "execution_count": 45,
   "metadata": {},
   "outputs": [],
   "source": [
    "# one hot encoding for labels (10)\n",
    "\n",
    "def one_hot_encode(x):\n",
    "    \"\"\"\n",
    "        argument\n",
    "            - x: a list of labels\n",
    "        return\n",
    "            - one hot encoding matrix (number of labels, number of class)\n",
    "        function\n",
    "            - encode elements into OHC representation\n",
    "    \"\"\"\n",
    "    \n",
    "    encoded = np.zeros((len(x),10)) #10 classes only\n",
    "    \n",
    "    for i, v in enumerate(x):\n",
    "        encoded[i,v] = 1\n",
    "    return(encoded)"
   ]
  },
  {
   "cell_type": "code",
   "execution_count": 46,
   "metadata": {},
   "outputs": [
    {
     "data": {
      "text/plain": [
       "array([[0., 1., 0., 0., 0., 0., 0., 0., 0., 0.],\n",
       "       [0., 0., 0., 1., 0., 0., 0., 0., 0., 0.],\n",
       "       [0., 0., 0., 0., 1., 0., 0., 0., 0., 0.]])"
      ]
     },
     "execution_count": 46,
     "metadata": {},
     "output_type": "execute_result"
    }
   ],
   "source": [
    "one_hot_encode((1,3,4))"
   ]
  },
  {
   "cell_type": "code",
   "execution_count": 51,
   "metadata": {},
   "outputs": [],
   "source": [
    "# preprocessing and normalizing \n",
    "def preprocess_and_save(normalize_vals,one_hot_encode,features, labels, filename ):\n",
    "    \"\"\"\n",
    "        argument\n",
    "            - normalize, one hot encoding, features, labels filename\n",
    "        return\n",
    "            - None\n",
    "        function\n",
    "            - normalise, encode labels and save pickle dumps\n",
    "    \"\"\"\n",
    "    features = normalize_vals(features)\n",
    "    labels = one_hot_encode(labels)\n",
    "    pickle.dump((features,labels), open(filename,'wb'))\n",
    "    \n",
    "    \n",
    "def preprocess_and_save_data(cifar_path, normalize_vals, one_hot_encode):\n",
    "    \"\"\"\n",
    "        argument\n",
    "            - normalize, one hot encoding, features,cifar_path\n",
    "        return\n",
    "            - None\n",
    "        function\n",
    "            - normalise, encode data and save pickle dumps use preprocess and save function\n",
    "    \"\"\"\n",
    "    \n",
    "    batches = 5\n",
    "    valid_features = []\n",
    "    valid_labels = []\n",
    "    \n",
    "    for i in range(1, batches+1):\n",
    "        features, labels = cifar_batch(cifar_path,i)\n",
    "        \n",
    "        #locating index for validation set\n",
    "        idx_val = int(len(features)*0.1)\n",
    "        #calling preprocess and save functions for todos\n",
    "        preprocess_and_save(normalize_vals,one_hot_encode,features[:-idx_val], labels[:-idx_val],\n",
    "                            'preprocess_batch_' + str(i) + '.p')\n",
    "        \n",
    "        \n",
    "        #validation set added together\n",
    "        valid_features.extend(features[-idx_val:])\n",
    "        valid_labels.extend(labels[-idx_val:])\n",
    "        \n",
    "        \n",
    "        preprocess_and_save(normalize_vals,one_hot_encode,np.array(valid_features),\n",
    "                            np.array(valid_labels), 'preprocess_validation.p')\n",
    "        with open(cifar_path + '/test_batch', mode = 'rb') as file:\n",
    "            batch = pickle.load(file, encoding='Latin-1')\n",
    "            \n",
    "        #preprocessing test features by reshape and transform\n",
    "        test_features = batch['data'].reshape((len(batch['data']), 3,32,32)).transpose(0,2,3,1)\n",
    "        test_labels = batch['labels']\n",
    "        \n",
    "        preprocess_and_save(normalize_vals, one_hot_encode, np.array(test_features), np.array(test_labels),\n",
    "                            'preprocess_training.p')\n",
    "        \n",
    "    \n",
    "    "
   ]
  },
  {
   "cell_type": "code",
   "execution_count": 52,
   "metadata": {},
   "outputs": [],
   "source": [
    "preprocess_and_save_data(cifar_path,normalize_vals,one_hot_encode)"
   ]
  },
  {
   "cell_type": "code",
   "execution_count": 53,
   "metadata": {},
   "outputs": [],
   "source": [
    "#loading data from dumped pickle\n",
    "import pickle\n",
    "valid_features, valid_labels = pickle.load(open('preprocess_validation.p', mode='rb'))"
   ]
  },
  {
   "cell_type": "code",
   "execution_count": 54,
   "metadata": {},
   "outputs": [],
   "source": [
    "tf.reset_default_graph()\n"
   ]
  },
  {
   "cell_type": "code",
   "execution_count": 56,
   "metadata": {},
   "outputs": [],
   "source": [
    "x = tf.placeholder(tf.float32,shape = (None, 32,32,3), name = 'input_X')\n",
    "y = tf.placeholder(tf.float32, shape = (None,10), name = 'label_y')\n",
    "\n",
    "keep_prob = tf.placeholder(tf.float32, name = 'keep_prob')"
   ]
  },
  {
   "cell_type": "code",
   "execution_count": 60,
   "metadata": {},
   "outputs": [],
   "source": [
    "#defining conv net with model parameters\n",
    "#import pkg_resources\n",
    "#from pkg_resources import DistributionNotFound, VersionConflict\n",
    "#dependencies = ['tensorflow>=1.10.0']\n",
    "#pkg_resources.require(dependencies)"
   ]
  },
  {
   "cell_type": "code",
   "execution_count": 68,
   "metadata": {},
   "outputs": [],
   "source": [
    "def conv_net(X, keep_prob):\n",
    "    #defining variable on convolutional filter/kernel from a truncated(clipped end) normal distribution sizes actual size = 3*3*3 \n",
    "    conv1_filter = tf.Variable(tf.truncated_normal(shape = [3,3,3,64],mean=0, stddev=0.08))\n",
    "    conv2_filter = tf.Variable(tf.truncated_normal(shape = [3,3,64,128],mean=0, stddev=0.08))\n",
    "    conv3_filter = tf.Variable(tf.truncated_normal(shape = [5,5,128,256],mean=0, stddev=0.08))\n",
    "    conv4_filter = tf.Variable(tf.truncated_normal(shape = [5,5,256,512],mean=0, stddev=0.08))\n",
    "    \n",
    "    conv1 = tf.nn.conv2d(X, conv1_filter, strides = [1,1,1,1], padding ='SAME')\n",
    "    conv1 = tf.nn.relu(conv1)\n",
    "    conv1_pool = tf.nn.max_pool(conv1, ksize = [1,2,2,1], strides = [1,2,2,1], padding = 'SAME')  #data format NHWC(batch h*w*c)\n",
    "    conv1_final = tf.layers.batch_normalization(conv1_pool)\n",
    "    \n",
    "    conv2 = tf.nn.conv2d(conv1_final, conv2_filter, strides = [1,1,1,1], padding ='SAME')\n",
    "    conv2 = tf.nn.relu(conv2)\n",
    "    conv2_pool = tf.nn.max_pool(conv2, ksize = [1,2,2,1], strides = [1,2,2,1], padding = 'SAME')  #data format NHWC(batch h*w*c)\n",
    "    conv2_final = tf.layers.batch_normalization(conv2_pool)\n",
    "    \n",
    "    conv3 = tf.nn.conv2d(conv2_final, conv3_filter, strides = [1,1,1,1], padding ='SAME')\n",
    "    conv3 = tf.nn.relu(conv3)\n",
    "    conv3_pool = tf.nn.max_pool(conv3, ksize = [1,2,2,1], strides = [1,2,2,1], padding = 'SAME')  #data format NHWC(batch h*w*c)\n",
    "    conv3_final = tf.layers.batch_normalization(conv3_pool)\n",
    "    \n",
    "    conv4 = tf.nn.conv2d(conv3_final, conv4_filter, strides = [1,1,1,1], padding ='SAME')\n",
    "    conv4 = tf.nn.relu(conv4)\n",
    "    conv4_pool = tf.nn.max_pool(conv4, ksize = [1,2,2,1], strides = [1,2,2,1], padding = 'SAME')  #data format NHWC(batch h*w*c)\n",
    "    conv4_final = tf.layers.batch_normalization(conv4_pool)\n",
    "    \n",
    "    #flatten before FNN\n",
    "    conv_flat = tf.contrib.layers.flatten(inputs= conv4_final)\n",
    "    \n",
    "    #Fully Connected Neural Network\n",
    "    full1 = tf.contrib.layers.fully_connected(inputs=conv_flat, num_outputs=128, activation_fn=tf.nn.relu)\n",
    "    full1 = tf.nn.dropout(full1, keep_prob)\n",
    "    full1 = tf.layers.batch_normalization(full1)\n",
    "    \n",
    "    full2 = tf.contrib.layers.fully_connected(inputs=full1, num_outputs=256, activation_fn=tf.nn.relu)\n",
    "    full2 = tf.nn.dropout(full2, keep_prob)\n",
    "    full2 = tf.layers.batch_normalization(full2)\n",
    "    \n",
    "    full3 = tf.contrib.layers.fully_connected(inputs=full2, num_outputs=512, activation_fn=tf.nn.relu)\n",
    "    full3 = tf.nn.dropout(full3, keep_prob)\n",
    "    full3 = tf.layers.batch_normalization(full3)\n",
    "    \n",
    "    full4 = tf.contrib.layers.fully_connected(inputs=full3, num_outputs=1024, activation_fn=tf.nn.relu)\n",
    "    full4 = tf.nn.dropout(full4, keep_prob)\n",
    "    full4 = tf.layers.batch_normalization(full4)\n",
    "    \n",
    "    output = tf.contrib.layers.fully_connected(inputs = full4, num_outputs=10, activation_fn = None)\n",
    "    \n",
    "    return output\n",
    "    \n",
    "    \n",
    "    \n",
    "    \n",
    "    \n",
    "    \n",
    "    "
   ]
  },
  {
   "cell_type": "code",
   "execution_count": 69,
   "metadata": {},
   "outputs": [],
   "source": [
    "#Hyperparameters\n",
    "epochs = 10\n",
    "batch_size = 128\n",
    "keep_probability = 0.7\n",
    "learning_rate = 0.001"
   ]
  },
  {
   "cell_type": "code",
   "execution_count": 71,
   "metadata": {},
   "outputs": [],
   "source": [
    "#training\n",
    "logits = conv_net(x, keep_prob)\n",
    "model = tf.identity(logits, name ='logits')\n",
    "\n",
    "cost = tf.reduce_mean(tf.nn.softmax_cross_entropy_with_logits_v2(logits = logits,labels=y))\n",
    "optimizer = tf.train.AdamOptimizer(learning_rate=learning_rate).minimize(cost)\n",
    "\n",
    "#model accuracy\n",
    "correct_pred = tf.equal(tf.argmax(logits,1), tf.argmax(y,1))\n",
    "accuracy = tf.reduce_mean(tf.cast(correct_pred, tf.float32), name='accuracy')"
   ]
  },
  {
   "cell_type": "code",
   "execution_count": 72,
   "metadata": {},
   "outputs": [],
   "source": [
    "# optimization\n",
    "\n",
    "def train_neural_network(session, optimizer, keep_probability, feature_batch, label_batch):\n",
    "    session.run(optimizer, \n",
    "                feed_dict={\n",
    "                    x: feature_batch,\n",
    "                    y: label_batch,\n",
    "                    keep_prob: keep_probability\n",
    "                })"
   ]
  },
  {
   "cell_type": "code",
   "execution_count": 73,
   "metadata": {},
   "outputs": [],
   "source": [
    "\n",
    "def print_stats(session, feature_batch, label_batch, cost, accuracy):\n",
    "    loss = sess.run(cost, \n",
    "                    feed_dict={\n",
    "                        x: feature_batch,\n",
    "                        y: label_batch,\n",
    "                        keep_prob: 1.\n",
    "                    })\n",
    "    valid_acc = sess.run(accuracy, \n",
    "                         feed_dict={\n",
    "                             x: valid_features,\n",
    "                             y: valid_labels,\n",
    "                             keep_prob: 1.\n",
    "                         })\n",
    "    \n",
    "    print('Loss: {:>10.4f} Validation Accuracy: {:.6f}'.format(loss, valid_acc))"
   ]
  },
  {
   "cell_type": "code",
   "execution_count": 74,
   "metadata": {},
   "outputs": [],
   "source": [
    "\n",
    "def batch_features_labels(features, labels, batch_size):\n",
    "    \"\"\"\n",
    "    Split features and labels into batches\n",
    "    \"\"\"\n",
    "    for start in range(0, len(features), batch_size):\n",
    "        end = min(start + batch_size, len(features))\n",
    "        yield features[start:end], labels[start:end]\n",
    "\n",
    "def load_preprocess_training_batch(batch_id, batch_size):\n",
    "    \"\"\"\n",
    "    Load the Preprocessed Training data and return them in batches of <batch_size> or less\n",
    "    \"\"\"\n",
    "    filename = 'preprocess_batch_' + str(batch_id) + '.p'\n",
    "    features, labels = pickle.load(open(filename, mode='rb'))\n",
    "\n",
    "    # Return the training data in batches of size <batch_size> or less\n",
    "    return batch_features_labels(features, labels, batch_size)"
   ]
  },
  {
   "cell_type": "code",
   "execution_count": 75,
   "metadata": {},
   "outputs": [
    {
     "name": "stdout",
     "output_type": "stream",
     "text": [
      "Training...\n",
      "Epoch  1, CIFAR-10 Batch 1:  Loss:     2.2483 Validation Accuracy: 0.154000\n",
      "Epoch  1, CIFAR-10 Batch 2:  Loss:     1.9736 Validation Accuracy: 0.152800\n",
      "Epoch  1, CIFAR-10 Batch 3:  Loss:     1.7137 Validation Accuracy: 0.256400\n",
      "Epoch  1, CIFAR-10 Batch 4:  Loss:     1.7418 Validation Accuracy: 0.278000\n",
      "Epoch  1, CIFAR-10 Batch 5:  Loss:     1.5943 Validation Accuracy: 0.277800\n",
      "Epoch  2, CIFAR-10 Batch 1:  Loss:     1.7651 Validation Accuracy: 0.278800\n",
      "Epoch  2, CIFAR-10 Batch 2:  Loss:     1.6891 Validation Accuracy: 0.237400\n",
      "Epoch  2, CIFAR-10 Batch 3:  Loss:     1.5481 Validation Accuracy: 0.300000\n",
      "Epoch  2, CIFAR-10 Batch 4:  Loss:     1.4896 Validation Accuracy: 0.341400\n",
      "Epoch  2, CIFAR-10 Batch 5:  Loss:     1.4729 Validation Accuracy: 0.322600\n",
      "Epoch  3, CIFAR-10 Batch 1:  Loss:     1.2574 Validation Accuracy: 0.478200\n",
      "Epoch  3, CIFAR-10 Batch 2:  Loss:     1.1497 Validation Accuracy: 0.453400\n",
      "Epoch  3, CIFAR-10 Batch 3:  Loss:     0.9249 Validation Accuracy: 0.548400\n",
      "Epoch  3, CIFAR-10 Batch 4:  Loss:     0.9553 Validation Accuracy: 0.561200\n",
      "Epoch  3, CIFAR-10 Batch 5:  Loss:     0.8025 Validation Accuracy: 0.611600\n",
      "Epoch  4, CIFAR-10 Batch 1:  Loss:     0.8770 Validation Accuracy: 0.633200\n",
      "Epoch  4, CIFAR-10 Batch 2:  Loss:     0.7200 Validation Accuracy: 0.635000\n",
      "Epoch  4, CIFAR-10 Batch 3:  Loss:     0.4382 Validation Accuracy: 0.644200\n",
      "Epoch  4, CIFAR-10 Batch 4:  Loss:     0.5425 Validation Accuracy: 0.642200\n",
      "Epoch  4, CIFAR-10 Batch 5:  Loss:     0.6986 Validation Accuracy: 0.620600\n",
      "Epoch  5, CIFAR-10 Batch 1:  Loss:     0.6230 Validation Accuracy: 0.646800\n",
      "Epoch  5, CIFAR-10 Batch 2:  Loss:     0.4258 Validation Accuracy: 0.686800\n",
      "Epoch  5, CIFAR-10 Batch 3:  Loss:     0.2821 Validation Accuracy: 0.668400\n",
      "Epoch  5, CIFAR-10 Batch 4:  Loss:     0.2679 Validation Accuracy: 0.702200\n",
      "Epoch  5, CIFAR-10 Batch 5:  Loss:     0.3449 Validation Accuracy: 0.691800\n",
      "Epoch  6, CIFAR-10 Batch 1:  Loss:     0.4001 Validation Accuracy: 0.685800\n",
      "Epoch  6, CIFAR-10 Batch 2:  Loss:     0.2349 Validation Accuracy: 0.716800\n",
      "Epoch  6, CIFAR-10 Batch 3:  Loss:     0.1904 Validation Accuracy: 0.718800\n",
      "Epoch  6, CIFAR-10 Batch 4:  Loss:     0.2497 Validation Accuracy: 0.710800\n",
      "Epoch  6, CIFAR-10 Batch 5:  Loss:     0.1811 Validation Accuracy: 0.715600\n",
      "Epoch  7, CIFAR-10 Batch 1:  Loss:     0.2225 Validation Accuracy: 0.713000\n",
      "Epoch  7, CIFAR-10 Batch 2:  Loss:     0.0747 Validation Accuracy: 0.717800\n",
      "Epoch  7, CIFAR-10 Batch 3:  Loss:     0.0919 Validation Accuracy: 0.731800\n",
      "Epoch  7, CIFAR-10 Batch 4:  Loss:     0.0802 Validation Accuracy: 0.719000\n",
      "Epoch  7, CIFAR-10 Batch 5:  Loss:     0.0983 Validation Accuracy: 0.700800\n",
      "Epoch  8, CIFAR-10 Batch 1:  Loss:     0.1692 Validation Accuracy: 0.738800\n",
      "Epoch  8, CIFAR-10 Batch 2:  Loss:     0.0683 Validation Accuracy: 0.729400\n",
      "Epoch  8, CIFAR-10 Batch 3:  Loss:     0.0418 Validation Accuracy: 0.718400\n",
      "Epoch  8, CIFAR-10 Batch 4:  Loss:     0.0983 Validation Accuracy: 0.732200\n",
      "Epoch  8, CIFAR-10 Batch 5:  Loss:     0.0585 Validation Accuracy: 0.723800\n",
      "Epoch  9, CIFAR-10 Batch 1:  Loss:     0.0783 Validation Accuracy: 0.719800\n",
      "Epoch  9, CIFAR-10 Batch 2:  Loss:     0.0766 Validation Accuracy: 0.724800\n",
      "Epoch  9, CIFAR-10 Batch 3:  Loss:     0.0244 Validation Accuracy: 0.743000\n",
      "Epoch  9, CIFAR-10 Batch 4:  Loss:     0.0935 Validation Accuracy: 0.715000\n",
      "Epoch  9, CIFAR-10 Batch 5:  Loss:     0.0338 Validation Accuracy: 0.727400\n",
      "Epoch 10, CIFAR-10 Batch 1:  Loss:     0.0326 Validation Accuracy: 0.729200\n",
      "Epoch 10, CIFAR-10 Batch 2:  Loss:     0.0454 Validation Accuracy: 0.744600\n",
      "Epoch 10, CIFAR-10 Batch 3:  Loss:     0.0083 Validation Accuracy: 0.745000\n",
      "Epoch 10, CIFAR-10 Batch 4:  Loss:     0.0284 Validation Accuracy: 0.731000\n",
      "Epoch 10, CIFAR-10 Batch 5:  Loss:     0.0214 Validation Accuracy: 0.730600\n"
     ]
    }
   ],
   "source": [
    "\n",
    "save_model_path = './image_classification'\n",
    "\n",
    "print('Training...')\n",
    "with tf.Session() as sess:\n",
    "    # Initializing the variables\n",
    "    sess.run(tf.global_variables_initializer())\n",
    "    \n",
    "    # Training cycle\n",
    "    for epoch in range(epochs):\n",
    "        # Loop over all batches\n",
    "        n_batches = 5\n",
    "        for batch_i in range(1, n_batches + 1):\n",
    "            for batch_features, batch_labels in load_preprocess_training_batch(batch_i, batch_size):\n",
    "                train_neural_network(sess, optimizer, keep_probability, batch_features, batch_labels)\n",
    "                \n",
    "            print('Epoch {:>2}, CIFAR-10 Batch {}:  '.format(epoch + 1, batch_i), end='')\n",
    "            print_stats(sess, batch_features, batch_labels, cost, accuracy)\n",
    "            \n",
    "    # Save Model\n",
    "    saver = tf.train.Saver()\n",
    "    save_path = saver.save(sess, save_model_path)"
   ]
  },
  {
   "cell_type": "code",
   "execution_count": 76,
   "metadata": {},
   "outputs": [],
   "source": [
    "import pickle\n",
    "import numpy as np\n",
    "import matplotlib.pyplot as plt\n",
    "from sklearn.preprocessing import LabelBinarizer\n",
    "\n",
    "def batch_features_labels(features, labels, batch_size):\n",
    "    \"\"\"\n",
    "    Split features and labels into batches\n",
    "    \"\"\"\n",
    "    for start in range(0, len(features), batch_size):\n",
    "        end = min(start + batch_size, len(features))\n",
    "        yield features[start:end], labels[start:end]\n",
    "\n",
    "def display_image_predictions(features, labels, predictions, top_n_predictions):\n",
    "    n_classes = 10\n",
    "    label_names = load_label_names()\n",
    "    label_binarizer = LabelBinarizer()\n",
    "    label_binarizer.fit(range(n_classes))\n",
    "    label_ids = label_binarizer.inverse_transform(np.array(labels))\n",
    "\n",
    "    fig, axies = plt.subplots(nrows=top_n_predictions, ncols=2, figsize=(20, 10))\n",
    "    fig.tight_layout()\n",
    "    fig.suptitle('Softmax Predictions', fontsize=20, y=1.1)\n",
    "\n",
    "    n_predictions = 3\n",
    "    margin = 0.05\n",
    "    ind = np.arange(n_predictions)\n",
    "    width = (1. - 2. * margin) / n_predictions\n",
    "   \n",
    "    for image_i, (feature, label_id, pred_indicies, pred_values) in enumerate(zip(features, label_ids, predictions.indices, predictions.values)):\n",
    "        if (image_i < top_n_predictions):\n",
    "            pred_names = [label_names[pred_i] for pred_i in pred_indicies]\n",
    "            correct_name = label_names[label_id]\n",
    "            \n",
    "            axies[image_i][0].imshow((feature*255).astype(np.int32, copy=False))\n",
    "            axies[image_i][0].set_title(correct_name)\n",
    "            axies[image_i][0].set_axis_off()\n",
    "\n",
    "            axies[image_i][1].barh(ind + margin, pred_values[:3], width)\n",
    "            axies[image_i][1].set_yticks(ind + margin)\n",
    "            axies[image_i][1].set_yticklabels(pred_names[::-1])\n",
    "            axies[image_i][1].set_xticks([0, 0.5, 1.0])"
   ]
  },
  {
   "cell_type": "code",
   "execution_count": 80,
   "metadata": {},
   "outputs": [
    {
     "name": "stdout",
     "output_type": "stream",
     "text": [
      "INFO:tensorflow:Restoring parameters from ./image_classification\n",
      "Testing Accuracy: 0.09384952229299363\n",
      "\n"
     ]
    },
    {
     "data": {
      "image/png": "[encoded data removed]",
      "text/plain": [
       "<Figure size 1440x720 with 10 Axes>"
      ]
     },
     "metadata": {
      "image/png": {
       "height": 795,
       "width": 1145
      },
      "needs_background": "light"
     },
     "output_type": "display_data"
    }
   ],
   "source": [
    "%matplotlib inline\n",
    "%config InlineBackend.figure_format = 'retina'\n",
    "\n",
    "import tensorflow as tf\n",
    "import pickle\n",
    "import random\n",
    "\n",
    "save_model_path = './image_classification'\n",
    "batch_size = 64\n",
    "n_samples = 10\n",
    "top_n_predictions = 5\n",
    "\n",
    "def test_model():\n",
    "    test_features, test_labels = pickle.load(open('preprocess_training.p', mode='rb'))\n",
    "    loaded_graph = tf.Graph()\n",
    "\n",
    "    with tf.Session(graph=loaded_graph) as sess:\n",
    "        # Load model\n",
    "        loader = tf.train.import_meta_graph(save_model_path + '.meta')\n",
    "        loader.restore(sess, save_model_path)\n",
    "\n",
    "        # Get Tensors from loaded model\n",
    "        loaded_x = loaded_graph.get_tensor_by_name('input_X:0')\n",
    "        loaded_y = loaded_graph.get_tensor_by_name('label_y:0')\n",
    "        loaded_keep_prob = loaded_graph.get_tensor_by_name('keep_prob:0')\n",
    "        loaded_logits = loaded_graph.get_tensor_by_name('logits:0')\n",
    "        loaded_acc = loaded_graph.get_tensor_by_name('accuracy:0')\n",
    "        \n",
    "        # Get accuracy in batches for memory limitations\n",
    "        test_batch_acc_total = 0\n",
    "        test_batch_count = 0\n",
    "        \n",
    "        for train_feature_batch, train_label_batch in batch_features_labels(test_features, test_labels, batch_size):\n",
    "            test_batch_acc_total += sess.run(\n",
    "                loaded_acc,\n",
    "                feed_dict={loaded_x: train_feature_batch, loaded_y: train_label_batch, loaded_keep_prob: 1.0})\n",
    "            test_batch_count += 1\n",
    "\n",
    "        print('Testing Accuracy: {}\\n'.format(test_batch_acc_total/test_batch_count))\n",
    "\n",
    "        # Print Random Samples\n",
    "        random_test_features, random_test_labels = tuple(zip(*random.sample(list(zip(test_features, test_labels)), n_samples)))\n",
    "        random_test_predictions = sess.run(\n",
    "            tf.nn.top_k(tf.nn.softmax(loaded_logits), top_n_predictions),\n",
    "            feed_dict={loaded_x: random_test_features, loaded_y: random_test_labels, loaded_keep_prob: 1.0})\n",
    "        display_image_predictions(random_test_features, random_test_labels, random_test_predictions, top_n_predictions)\n",
    "\n",
    "\n",
    "test_model()\n"
   ]
  },
  {
   "cell_type": "code",
   "execution_count": null,
   "metadata": {},
   "outputs": [],
   "source": []
  },
  {
   "cell_type": "code",
   "execution_count": null,
   "metadata": {},
   "outputs": [],
   "source": [
    "    "
   ]
  },
  {
   "cell_type": "code",
   "execution_count": null,
   "metadata": {},
   "outputs": [],
   "source": []
  },
  {
   "cell_type": "code",
   "execution_count": null,
   "metadata": {},
   "outputs": [],
   "source": []
  },
  {
   "cell_type": "code",
   "execution_count": null,
   "metadata": {},
   "outputs": [],
   "source": []
  }
 ],
 "metadata": {
  "kernelspec": {
   "display_name": "Python 3",
   "language": "python",
   "name": "python3"
  },
  "language_info": {
   "codemirror_mode": {
    "name": "ipython",
    "version": 3
   },
   "file_extension": ".py",
   "mimetype": "text/x-python",
   "name": "python",
   "nbconvert_exporter": "python",
   "pygments_lexer": "ipython3",
   "version": "3.6.7"
  }
 },
 "nbformat": 4,
 "nbformat_minor": 2
}
